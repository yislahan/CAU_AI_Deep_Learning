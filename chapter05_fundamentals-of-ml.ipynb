{
  "cells": [
    {
      "cell_type": "markdown",
      "metadata": {
        "id": "TqLZLqtGPmMA"
      },
      "source": [
        "This is a companion notebook for the book [Deep Learning with Python, Second Edition](https://www.manning.com/books/deep-learning-with-python-second-edition?a_aid=keras&a_bid=76564dff). For readability, it only contains runnable code blocks and section titles, and omits everything else in the book: text paragraphs, figures, and pseudocode.\n",
        "\n",
        "**If you want to be able to follow what's going on, I recommend reading the notebook side by side with your copy of the book.**\n",
        "\n",
        "This notebook was generated for TensorFlow 2.6."
      ]
    },
    {
      "cell_type": "markdown",
      "metadata": {
        "id": "XFt8JPxgPmME"
      },
      "source": [
        "# Fundamentals of machine learning"
      ]
    },
    {
      "cell_type": "markdown",
      "metadata": {
        "id": "afps5BXBPmME"
      },
      "source": [
        "## Generalization: The goal of machine learning"
      ]
    },
    {
      "cell_type": "markdown",
      "metadata": {
        "id": "k-lLJbt2PmMF"
      },
      "source": [
        "### Underfitting and overfitting"
      ]
    },
    {
      "cell_type": "markdown",
      "metadata": {
        "id": "Xh6Qw8L0PmMF"
      },
      "source": [
        "#### Noisy training data"
      ]
    },
    {
      "cell_type": "markdown",
      "metadata": {
        "id": "6kWy0AmgPmMF"
      },
      "source": [
        "#### Ambiguous features"
      ]
    },
    {
      "cell_type": "markdown",
      "metadata": {
        "id": "3RsdAyaxPmMG"
      },
      "source": [
        "#### Rare features and spurious correlations"
      ]
    },
    {
      "cell_type": "markdown",
      "metadata": {
        "id": "psOYO8RZPmMG"
      },
      "source": [
        "**Adding white-noise channels or all-zeros channels to MNIST**"
      ]
    },
    {
      "cell_type": "code",
      "execution_count": 1,
      "metadata": {
        "colab": {
          "base_uri": "https://localhost:8080/"
        },
        "id": "o3FrToblPmMH",
        "outputId": "95f01859-7f29-47d0-b2a8-afd824c082e9"
      },
      "outputs": [
        {
          "output_type": "stream",
          "name": "stdout",
          "text": [
            "Downloading data from https://storage.googleapis.com/tensorflow/tf-keras-datasets/mnist.npz\n",
            "11490434/11490434 [==============================] - 0s 0us/step\n"
          ]
        }
      ],
      "source": [
        "from tensorflow.keras.datasets import mnist\n",
        "import numpy as np\n",
        "\n",
        "(train_images, train_labels), _ = mnist.load_data()\n",
        "train_images = train_images.reshape((60000, 28 * 28))\n",
        "train_images = train_images.astype(\"float32\") / 255\n",
        "\n",
        "train_images_with_noise_channels = np.concatenate(\n",
        "    [train_images, np.random.random((len(train_images), 784))], axis=1)\n",
        "\n",
        "train_images_with_zeros_channels = np.concatenate(\n",
        "    [train_images, np.zeros((len(train_images), 784))], axis=1)"
      ]
    },
    {
      "cell_type": "code",
      "source": [
        "train_images.shape"
      ],
      "metadata": {
        "colab": {
          "base_uri": "https://localhost:8080/"
        },
        "id": "lXAUQiDoVVfi",
        "outputId": "0d2c9502-1e8c-443c-ca07-b23b999b6ba4"
      },
      "execution_count": 2,
      "outputs": [
        {
          "output_type": "execute_result",
          "data": {
            "text/plain": [
              "(60000, 784)"
            ]
          },
          "metadata": {},
          "execution_count": 2
        }
      ]
    },
    {
      "cell_type": "code",
      "source": [
        "train_images_with_noise_channels.shape"
      ],
      "metadata": {
        "colab": {
          "base_uri": "https://localhost:8080/"
        },
        "id": "L5p6Hn_RVhnQ",
        "outputId": "d07f14d9-dddf-42e8-ebef-87faedf206ce"
      },
      "execution_count": 3,
      "outputs": [
        {
          "output_type": "execute_result",
          "data": {
            "text/plain": [
              "(60000, 1568)"
            ]
          },
          "metadata": {},
          "execution_count": 3
        }
      ]
    },
    {
      "cell_type": "code",
      "source": [
        "train_images_with_zeros_channels.shape"
      ],
      "metadata": {
        "colab": {
          "base_uri": "https://localhost:8080/"
        },
        "id": "Sz9C9FjtVmiW",
        "outputId": "eabfd6ca-b619-43fd-fc8f-87774e17e053"
      },
      "execution_count": 4,
      "outputs": [
        {
          "output_type": "execute_result",
          "data": {
            "text/plain": [
              "(60000, 1568)"
            ]
          },
          "metadata": {},
          "execution_count": 4
        }
      ]
    },
    {
      "cell_type": "markdown",
      "metadata": {
        "id": "PVIIGe6JPmMI"
      },
      "source": [
        "**Training the same model on MNIST data with noise channels or all-zero channels**"
      ]
    },
    {
      "cell_type": "code",
      "execution_count": 5,
      "metadata": {
        "colab": {
          "base_uri": "https://localhost:8080/"
        },
        "id": "U9tOKKnXPmMI",
        "outputId": "d50ffb13-0c3c-4553-fab1-1ffb2e433789"
      },
      "outputs": [
        {
          "output_type": "stream",
          "name": "stdout",
          "text": [
            "Epoch 1/10\n",
            "375/375 [==============================] - 3s 4ms/step - loss: 0.6100 - accuracy: 0.8109 - val_loss: 0.3547 - val_accuracy: 0.8930\n",
            "Epoch 2/10\n",
            "375/375 [==============================] - 1s 3ms/step - loss: 0.2525 - accuracy: 0.9221 - val_loss: 0.2188 - val_accuracy: 0.9344\n",
            "Epoch 3/10\n",
            "375/375 [==============================] - 1s 3ms/step - loss: 0.1670 - accuracy: 0.9495 - val_loss: 0.1650 - val_accuracy: 0.9488\n",
            "Epoch 4/10\n",
            "375/375 [==============================] - 1s 3ms/step - loss: 0.1205 - accuracy: 0.9623 - val_loss: 0.1286 - val_accuracy: 0.9625\n",
            "Epoch 5/10\n",
            "375/375 [==============================] - 1s 3ms/step - loss: 0.0868 - accuracy: 0.9728 - val_loss: 0.1315 - val_accuracy: 0.9612\n",
            "Epoch 6/10\n",
            "375/375 [==============================] - 2s 6ms/step - loss: 0.0649 - accuracy: 0.9798 - val_loss: 0.1259 - val_accuracy: 0.9639\n",
            "Epoch 7/10\n",
            "375/375 [==============================] - 2s 4ms/step - loss: 0.0478 - accuracy: 0.9850 - val_loss: 0.1233 - val_accuracy: 0.9653\n",
            "Epoch 8/10\n",
            "375/375 [==============================] - 1s 3ms/step - loss: 0.0343 - accuracy: 0.9894 - val_loss: 0.1352 - val_accuracy: 0.9622\n",
            "Epoch 9/10\n",
            "375/375 [==============================] - 1s 3ms/step - loss: 0.0258 - accuracy: 0.9920 - val_loss: 0.1633 - val_accuracy: 0.9557\n",
            "Epoch 10/10\n",
            "375/375 [==============================] - 1s 3ms/step - loss: 0.0179 - accuracy: 0.9947 - val_loss: 0.1522 - val_accuracy: 0.9604\n",
            "Epoch 1/10\n",
            "375/375 [==============================] - 2s 4ms/step - loss: 0.2957 - accuracy: 0.9138 - val_loss: 0.1593 - val_accuracy: 0.9542\n",
            "Epoch 2/10\n",
            "375/375 [==============================] - 1s 3ms/step - loss: 0.1235 - accuracy: 0.9637 - val_loss: 0.1040 - val_accuracy: 0.9680\n",
            "Epoch 3/10\n",
            "375/375 [==============================] - 1s 3ms/step - loss: 0.0820 - accuracy: 0.9754 - val_loss: 0.0885 - val_accuracy: 0.9724\n",
            "Epoch 4/10\n",
            "375/375 [==============================] - 1s 3ms/step - loss: 0.0587 - accuracy: 0.9831 - val_loss: 0.0815 - val_accuracy: 0.9747\n",
            "Epoch 5/10\n",
            "375/375 [==============================] - 1s 3ms/step - loss: 0.0439 - accuracy: 0.9874 - val_loss: 0.0788 - val_accuracy: 0.9765\n",
            "Epoch 6/10\n",
            "375/375 [==============================] - 1s 3ms/step - loss: 0.0332 - accuracy: 0.9904 - val_loss: 0.0786 - val_accuracy: 0.9776\n",
            "Epoch 7/10\n",
            "375/375 [==============================] - 1s 3ms/step - loss: 0.0253 - accuracy: 0.9931 - val_loss: 0.0811 - val_accuracy: 0.9768\n",
            "Epoch 8/10\n",
            "375/375 [==============================] - 1s 3ms/step - loss: 0.0192 - accuracy: 0.9949 - val_loss: 0.0783 - val_accuracy: 0.9775\n",
            "Epoch 9/10\n",
            "375/375 [==============================] - 2s 4ms/step - loss: 0.0144 - accuracy: 0.9961 - val_loss: 0.0828 - val_accuracy: 0.9778\n",
            "Epoch 10/10\n",
            "375/375 [==============================] - 1s 3ms/step - loss: 0.0110 - accuracy: 0.9971 - val_loss: 0.0735 - val_accuracy: 0.9794\n"
          ]
        }
      ],
      "source": [
        "from tensorflow import keras\n",
        "from tensorflow.keras import layers\n",
        "\n",
        "def get_model():\n",
        "    model = keras.Sequential([\n",
        "        layers.Dense(512, activation=\"relu\"),\n",
        "        layers.Dense(10, activation=\"softmax\")\n",
        "    ])\n",
        "    model.compile(optimizer=\"rmsprop\",\n",
        "                  loss=\"sparse_categorical_crossentropy\",\n",
        "                  metrics=[\"accuracy\"])\n",
        "    return model\n",
        "\n",
        "model = get_model()\n",
        "history_noise = model.fit(\n",
        "    train_images_with_noise_channels, train_labels,\n",
        "    epochs=10,\n",
        "    batch_size=128,\n",
        "    validation_split=0.2)\n",
        "\n",
        "model = get_model()\n",
        "history_zeros = model.fit(\n",
        "    train_images_with_zeros_channels, train_labels,\n",
        "    epochs=10,\n",
        "    batch_size=128,\n",
        "    validation_split=0.2)"
      ]
    },
    {
      "cell_type": "code",
      "source": [
        "import numpy as np\n"
      ],
      "metadata": {
        "id": "ImWJo7ATX2aq"
      },
      "execution_count": 6,
      "outputs": []
    },
    {
      "cell_type": "markdown",
      "metadata": {
        "id": "sig5A8IOPmMJ"
      },
      "source": [
        "**Plotting a validation accuracy comparison**"
      ]
    },
    {
      "cell_type": "code",
      "execution_count": 7,
      "metadata": {
        "colab": {
          "base_uri": "https://localhost:8080/",
          "height": 490
        },
        "id": "5eOztH8hPmMJ",
        "outputId": "2f148493-133a-4e0a-a0f5-16b6dbd72daa"
      },
      "outputs": [
        {
          "output_type": "execute_result",
          "data": {
            "text/plain": [
              "<matplotlib.legend.Legend at 0x7f30601d4ac0>"
            ]
          },
          "metadata": {},
          "execution_count": 7
        },
        {
          "output_type": "display_data",
          "data": {
            "text/plain": [
              "<Figure size 640x480 with 1 Axes>"
            ],
            "image/png": "[encoded data removed]"
          },
          "metadata": {}
        }
      ],
      "source": [
        "import matplotlib.pyplot as plt\n",
        "val_acc_noise = history_noise.history[\"val_accuracy\"]\n",
        "val_acc_zeros = history_zeros.history[\"val_accuracy\"]\n",
        "epochs = range(1, 11)\n",
        "plt.plot(epochs, val_acc_noise, \"b-\",\n",
        "         label=\"Validation accuracy with noise channels\")\n",
        "plt.plot(epochs, val_acc_zeros, \"b--\",\n",
        "         label=\"Validation accuracy with zeros channels\")\n",
        "plt.title(\"Effect of noise channels on validation accuracy\")\n",
        "plt.xlabel(\"Epochs\")\n",
        "plt.ylabel(\"Accuracy\")\n",
        "plt.legend()"
      ]
    },
    {
      "cell_type": "markdown",
      "metadata": {
        "id": "k5eVuVTSPmMJ"
      },
      "source": [
        "### The nature of generalization in deep learning"
      ]
    },
    {
      "cell_type": "markdown",
      "metadata": {
        "id": "8eIZLgdePmMK"
      },
      "source": [
        "**Fitting a MNIST model with randomly shuffled labels**"
      ]
    },
    {
      "cell_type": "code",
      "execution_count": 8,
      "metadata": {
        "colab": {
          "base_uri": "https://localhost:8080/"
        },
        "id": "NugauWZ0PmMK",
        "outputId": "3d3604d8-81f1-43a3-bae6-b6d29e0925ff"
      },
      "outputs": [
        {
          "output_type": "stream",
          "name": "stdout",
          "text": [
            "Epoch 1/100\n",
            "375/375 [==============================] - 2s 4ms/step - loss: 2.3174 - accuracy: 0.1029 - val_loss: 2.3061 - val_accuracy: 0.1063\n",
            "Epoch 2/100\n",
            "375/375 [==============================] - 1s 3ms/step - loss: 2.2994 - accuracy: 0.1169 - val_loss: 2.3108 - val_accuracy: 0.1039\n",
            "Epoch 3/100\n",
            "375/375 [==============================] - 1s 3ms/step - loss: 2.2910 - accuracy: 0.1271 - val_loss: 2.3142 - val_accuracy: 0.1043\n",
            "Epoch 4/100\n",
            "375/375 [==============================] - 1s 3ms/step - loss: 2.2784 - accuracy: 0.1384 - val_loss: 2.3245 - val_accuracy: 0.1004\n",
            "Epoch 5/100\n",
            "375/375 [==============================] - 1s 3ms/step - loss: 2.2628 - accuracy: 0.1530 - val_loss: 2.3373 - val_accuracy: 0.0990\n",
            "Epoch 6/100\n",
            "375/375 [==============================] - 1s 3ms/step - loss: 2.2427 - accuracy: 0.1665 - val_loss: 2.3439 - val_accuracy: 0.0985\n",
            "Epoch 7/100\n",
            "375/375 [==============================] - 1s 4ms/step - loss: 2.2195 - accuracy: 0.1800 - val_loss: 2.3691 - val_accuracy: 0.0985\n",
            "Epoch 8/100\n",
            "375/375 [==============================] - 1s 3ms/step - loss: 2.1926 - accuracy: 0.1964 - val_loss: 2.3864 - val_accuracy: 0.1001\n",
            "Epoch 9/100\n",
            "375/375 [==============================] - 1s 3ms/step - loss: 2.1642 - accuracy: 0.2117 - val_loss: 2.3983 - val_accuracy: 0.0974\n",
            "Epoch 10/100\n",
            "375/375 [==============================] - 1s 3ms/step - loss: 2.1311 - accuracy: 0.2294 - val_loss: 2.4189 - val_accuracy: 0.0984\n",
            "Epoch 11/100\n",
            "375/375 [==============================] - 1s 3ms/step - loss: 2.0968 - accuracy: 0.2454 - val_loss: 2.4468 - val_accuracy: 0.1012\n",
            "Epoch 12/100\n",
            "375/375 [==============================] - 1s 3ms/step - loss: 2.0607 - accuracy: 0.2631 - val_loss: 2.4789 - val_accuracy: 0.0999\n",
            "Epoch 13/100\n",
            "375/375 [==============================] - 1s 3ms/step - loss: 2.0233 - accuracy: 0.2773 - val_loss: 2.5127 - val_accuracy: 0.0993\n",
            "Epoch 14/100\n",
            "375/375 [==============================] - 1s 3ms/step - loss: 1.9864 - accuracy: 0.2945 - val_loss: 2.5292 - val_accuracy: 0.1007\n",
            "Epoch 15/100\n",
            "375/375 [==============================] - 1s 3ms/step - loss: 1.9477 - accuracy: 0.3134 - val_loss: 2.5673 - val_accuracy: 0.0999\n",
            "Epoch 16/100\n",
            "375/375 [==============================] - 1s 3ms/step - loss: 1.9095 - accuracy: 0.3288 - val_loss: 2.5979 - val_accuracy: 0.0963\n",
            "Epoch 17/100\n",
            "375/375 [==============================] - 2s 4ms/step - loss: 1.8696 - accuracy: 0.3465 - val_loss: 2.6240 - val_accuracy: 0.0985\n",
            "Epoch 18/100\n",
            "375/375 [==============================] - 1s 3ms/step - loss: 1.8304 - accuracy: 0.3622 - val_loss: 2.6827 - val_accuracy: 0.0971\n",
            "Epoch 19/100\n",
            "375/375 [==============================] - 1s 3ms/step - loss: 1.7935 - accuracy: 0.3755 - val_loss: 2.7150 - val_accuracy: 0.0958\n",
            "Epoch 20/100\n",
            "375/375 [==============================] - 1s 3ms/step - loss: 1.7568 - accuracy: 0.3900 - val_loss: 2.7630 - val_accuracy: 0.0949\n",
            "Epoch 21/100\n",
            "375/375 [==============================] - 1s 3ms/step - loss: 1.7181 - accuracy: 0.4061 - val_loss: 2.7834 - val_accuracy: 0.0961\n",
            "Epoch 22/100\n",
            "375/375 [==============================] - 1s 3ms/step - loss: 1.6820 - accuracy: 0.4187 - val_loss: 2.8361 - val_accuracy: 0.0984\n",
            "Epoch 23/100\n",
            "375/375 [==============================] - 1s 3ms/step - loss: 1.6460 - accuracy: 0.4322 - val_loss: 2.8703 - val_accuracy: 0.0967\n",
            "Epoch 24/100\n",
            "375/375 [==============================] - 1s 3ms/step - loss: 1.6119 - accuracy: 0.4471 - val_loss: 2.9223 - val_accuracy: 0.0967\n",
            "Epoch 25/100\n",
            "375/375 [==============================] - 1s 3ms/step - loss: 1.5771 - accuracy: 0.4600 - val_loss: 2.9480 - val_accuracy: 0.0972\n",
            "Epoch 26/100\n",
            "375/375 [==============================] - 1s 3ms/step - loss: 1.5438 - accuracy: 0.4713 - val_loss: 3.0122 - val_accuracy: 0.0973\n",
            "Epoch 27/100\n",
            "375/375 [==============================] - 2s 4ms/step - loss: 1.5098 - accuracy: 0.4844 - val_loss: 3.0786 - val_accuracy: 0.0964\n",
            "Epoch 28/100\n",
            "375/375 [==============================] - 1s 3ms/step - loss: 1.4788 - accuracy: 0.4964 - val_loss: 3.1245 - val_accuracy: 0.0993\n",
            "Epoch 29/100\n",
            "375/375 [==============================] - 1s 3ms/step - loss: 1.4490 - accuracy: 0.5058 - val_loss: 3.1727 - val_accuracy: 0.0966\n",
            "Epoch 30/100\n",
            "375/375 [==============================] - 1s 3ms/step - loss: 1.4151 - accuracy: 0.5191 - val_loss: 3.2036 - val_accuracy: 0.0985\n",
            "Epoch 31/100\n",
            "375/375 [==============================] - 1s 3ms/step - loss: 1.3863 - accuracy: 0.5303 - val_loss: 3.2733 - val_accuracy: 0.0955\n",
            "Epoch 32/100\n",
            "375/375 [==============================] - 1s 3ms/step - loss: 1.3572 - accuracy: 0.5410 - val_loss: 3.3200 - val_accuracy: 0.1021\n",
            "Epoch 33/100\n",
            "375/375 [==============================] - 1s 3ms/step - loss: 1.3271 - accuracy: 0.5492 - val_loss: 3.3796 - val_accuracy: 0.0967\n",
            "Epoch 34/100\n",
            "375/375 [==============================] - 1s 3ms/step - loss: 1.2986 - accuracy: 0.5609 - val_loss: 3.4386 - val_accuracy: 0.0985\n",
            "Epoch 35/100\n",
            "375/375 [==============================] - 1s 3ms/step - loss: 1.2734 - accuracy: 0.5719 - val_loss: 3.4985 - val_accuracy: 0.0983\n",
            "Epoch 36/100\n",
            "375/375 [==============================] - 1s 3ms/step - loss: 1.2461 - accuracy: 0.5829 - val_loss: 3.5505 - val_accuracy: 0.0995\n",
            "Epoch 37/100\n",
            "375/375 [==============================] - 2s 4ms/step - loss: 1.2199 - accuracy: 0.5892 - val_loss: 3.6346 - val_accuracy: 0.0927\n",
            "Epoch 38/100\n",
            "375/375 [==============================] - 1s 3ms/step - loss: 1.1943 - accuracy: 0.6007 - val_loss: 3.6593 - val_accuracy: 0.0985\n",
            "Epoch 39/100\n",
            "375/375 [==============================] - 1s 3ms/step - loss: 1.1696 - accuracy: 0.6098 - val_loss: 3.6955 - val_accuracy: 0.0984\n",
            "Epoch 40/100\n",
            "375/375 [==============================] - 1s 3ms/step - loss: 1.1456 - accuracy: 0.6172 - val_loss: 3.7802 - val_accuracy: 0.0965\n",
            "Epoch 41/100\n",
            "375/375 [==============================] - 1s 3ms/step - loss: 1.1201 - accuracy: 0.6256 - val_loss: 3.8227 - val_accuracy: 0.0954\n",
            "Epoch 42/100\n",
            "375/375 [==============================] - 1s 3ms/step - loss: 1.0980 - accuracy: 0.6359 - val_loss: 3.8926 - val_accuracy: 0.0969\n",
            "Epoch 43/100\n",
            "375/375 [==============================] - 1s 3ms/step - loss: 1.0776 - accuracy: 0.6414 - val_loss: 3.9314 - val_accuracy: 0.0993\n",
            "Epoch 44/100\n",
            "375/375 [==============================] - 1s 3ms/step - loss: 1.0536 - accuracy: 0.6485 - val_loss: 3.9909 - val_accuracy: 0.0997\n",
            "Epoch 45/100\n",
            "375/375 [==============================] - 1s 3ms/step - loss: 1.0334 - accuracy: 0.6556 - val_loss: 4.0947 - val_accuracy: 0.0981\n",
            "Epoch 46/100\n",
            "375/375 [==============================] - 1s 3ms/step - loss: 1.0127 - accuracy: 0.6634 - val_loss: 4.0921 - val_accuracy: 0.0986\n",
            "Epoch 47/100\n",
            "375/375 [==============================] - 2s 4ms/step - loss: 0.9905 - accuracy: 0.6736 - val_loss: 4.1892 - val_accuracy: 0.0985\n",
            "Epoch 48/100\n",
            "375/375 [==============================] - 1s 3ms/step - loss: 0.9720 - accuracy: 0.6792 - val_loss: 4.2291 - val_accuracy: 0.1013\n",
            "Epoch 49/100\n",
            "375/375 [==============================] - 1s 3ms/step - loss: 0.9509 - accuracy: 0.6888 - val_loss: 4.3081 - val_accuracy: 0.0995\n",
            "Epoch 50/100\n",
            "375/375 [==============================] - 1s 3ms/step - loss: 0.9313 - accuracy: 0.6921 - val_loss: 4.3559 - val_accuracy: 0.0980\n",
            "Epoch 51/100\n",
            "375/375 [==============================] - 1s 3ms/step - loss: 0.9118 - accuracy: 0.6981 - val_loss: 4.4618 - val_accuracy: 0.0970\n",
            "Epoch 52/100\n",
            "375/375 [==============================] - 1s 3ms/step - loss: 0.8957 - accuracy: 0.7059 - val_loss: 4.5158 - val_accuracy: 0.0966\n",
            "Epoch 53/100\n",
            "375/375 [==============================] - 1s 3ms/step - loss: 0.8758 - accuracy: 0.7132 - val_loss: 4.5657 - val_accuracy: 0.0986\n",
            "Epoch 54/100\n",
            "375/375 [==============================] - 1s 3ms/step - loss: 0.8585 - accuracy: 0.7194 - val_loss: 4.6254 - val_accuracy: 0.0999\n",
            "Epoch 55/100\n",
            "375/375 [==============================] - 1s 3ms/step - loss: 0.8430 - accuracy: 0.7242 - val_loss: 4.6885 - val_accuracy: 0.0960\n",
            "Epoch 56/100\n",
            "375/375 [==============================] - 1s 4ms/step - loss: 0.8254 - accuracy: 0.7300 - val_loss: 4.7728 - val_accuracy: 0.1001\n",
            "Epoch 57/100\n",
            "375/375 [==============================] - 1s 4ms/step - loss: 0.8084 - accuracy: 0.7378 - val_loss: 4.8284 - val_accuracy: 0.0964\n",
            "Epoch 58/100\n",
            "375/375 [==============================] - 1s 3ms/step - loss: 0.7916 - accuracy: 0.7424 - val_loss: 4.8723 - val_accuracy: 0.0966\n",
            "Epoch 59/100\n",
            "375/375 [==============================] - 1s 3ms/step - loss: 0.7749 - accuracy: 0.7481 - val_loss: 4.9735 - val_accuracy: 0.0981\n",
            "Epoch 60/100\n",
            "375/375 [==============================] - 1s 3ms/step - loss: 0.7615 - accuracy: 0.7542 - val_loss: 5.0655 - val_accuracy: 0.0987\n",
            "Epoch 61/100\n",
            "375/375 [==============================] - 1s 3ms/step - loss: 0.7471 - accuracy: 0.7570 - val_loss: 5.0905 - val_accuracy: 0.1002\n",
            "Epoch 62/100\n",
            "375/375 [==============================] - 1s 3ms/step - loss: 0.7306 - accuracy: 0.7624 - val_loss: 5.1809 - val_accuracy: 0.0975\n",
            "Epoch 63/100\n",
            "375/375 [==============================] - 1s 3ms/step - loss: 0.7173 - accuracy: 0.7677 - val_loss: 5.2369 - val_accuracy: 0.0960\n",
            "Epoch 64/100\n",
            "375/375 [==============================] - 1s 3ms/step - loss: 0.7060 - accuracy: 0.7712 - val_loss: 5.3163 - val_accuracy: 0.0964\n",
            "Epoch 65/100\n",
            "375/375 [==============================] - 1s 3ms/step - loss: 0.6899 - accuracy: 0.7773 - val_loss: 5.3944 - val_accuracy: 0.0978\n",
            "Epoch 66/100\n",
            "375/375 [==============================] - 1s 4ms/step - loss: 0.6749 - accuracy: 0.7832 - val_loss: 5.4047 - val_accuracy: 0.0991\n",
            "Epoch 67/100\n",
            "375/375 [==============================] - 2s 4ms/step - loss: 0.6639 - accuracy: 0.7862 - val_loss: 5.5014 - val_accuracy: 0.0974\n",
            "Epoch 68/100\n",
            "375/375 [==============================] - 1s 3ms/step - loss: 0.6497 - accuracy: 0.7908 - val_loss: 5.6097 - val_accuracy: 0.0982\n",
            "Epoch 69/100\n",
            "375/375 [==============================] - 1s 3ms/step - loss: 0.6374 - accuracy: 0.7946 - val_loss: 5.6326 - val_accuracy: 0.1003\n",
            "Epoch 70/100\n",
            "375/375 [==============================] - 1s 3ms/step - loss: 0.6246 - accuracy: 0.8001 - val_loss: 5.7297 - val_accuracy: 0.0975\n",
            "Epoch 71/100\n",
            "375/375 [==============================] - 1s 3ms/step - loss: 0.6151 - accuracy: 0.8024 - val_loss: 5.7791 - val_accuracy: 0.0978\n",
            "Epoch 72/100\n",
            "375/375 [==============================] - 1s 3ms/step - loss: 0.6015 - accuracy: 0.8075 - val_loss: 5.8946 - val_accuracy: 0.0988\n",
            "Epoch 73/100\n",
            "375/375 [==============================] - 1s 3ms/step - loss: 0.5897 - accuracy: 0.8120 - val_loss: 5.9856 - val_accuracy: 0.0981\n",
            "Epoch 74/100\n",
            "375/375 [==============================] - 1s 3ms/step - loss: 0.5777 - accuracy: 0.8155 - val_loss: 6.0185 - val_accuracy: 0.1013\n",
            "Epoch 75/100\n",
            "375/375 [==============================] - 1s 3ms/step - loss: 0.5677 - accuracy: 0.8192 - val_loss: 6.0846 - val_accuracy: 0.0989\n",
            "Epoch 76/100\n",
            "375/375 [==============================] - 1s 4ms/step - loss: 0.5558 - accuracy: 0.8231 - val_loss: 6.1366 - val_accuracy: 0.0959\n",
            "Epoch 77/100\n",
            "375/375 [==============================] - 1s 4ms/step - loss: 0.5471 - accuracy: 0.8254 - val_loss: 6.2560 - val_accuracy: 0.0989\n",
            "Epoch 78/100\n",
            "375/375 [==============================] - 1s 3ms/step - loss: 0.5340 - accuracy: 0.8317 - val_loss: 6.3458 - val_accuracy: 0.0960\n",
            "Epoch 79/100\n",
            "375/375 [==============================] - 1s 3ms/step - loss: 0.5266 - accuracy: 0.8334 - val_loss: 6.3015 - val_accuracy: 0.1011\n",
            "Epoch 80/100\n",
            "375/375 [==============================] - 1s 3ms/step - loss: 0.5145 - accuracy: 0.8370 - val_loss: 6.4607 - val_accuracy: 0.0949\n",
            "Epoch 81/100\n",
            "375/375 [==============================] - 1s 3ms/step - loss: 0.5049 - accuracy: 0.8403 - val_loss: 6.5659 - val_accuracy: 0.0981\n",
            "Epoch 82/100\n",
            "375/375 [==============================] - 1s 3ms/step - loss: 0.4975 - accuracy: 0.8414 - val_loss: 6.6362 - val_accuracy: 0.0976\n",
            "Epoch 83/100\n",
            "375/375 [==============================] - 1s 3ms/step - loss: 0.4862 - accuracy: 0.8461 - val_loss: 6.6441 - val_accuracy: 0.1016\n",
            "Epoch 84/100\n",
            "375/375 [==============================] - 1s 3ms/step - loss: 0.4773 - accuracy: 0.8495 - val_loss: 6.7568 - val_accuracy: 0.0978\n",
            "Epoch 85/100\n",
            "375/375 [==============================] - 1s 3ms/step - loss: 0.4689 - accuracy: 0.8523 - val_loss: 6.8441 - val_accuracy: 0.1003\n",
            "Epoch 86/100\n",
            "375/375 [==============================] - 1s 4ms/step - loss: 0.4618 - accuracy: 0.8533 - val_loss: 6.8844 - val_accuracy: 0.0992\n",
            "Epoch 87/100\n",
            "375/375 [==============================] - 1s 4ms/step - loss: 0.4528 - accuracy: 0.8574 - val_loss: 6.9609 - val_accuracy: 0.0964\n",
            "Epoch 88/100\n",
            "375/375 [==============================] - 1s 3ms/step - loss: 0.4457 - accuracy: 0.8605 - val_loss: 7.0611 - val_accuracy: 0.0974\n",
            "Epoch 89/100\n",
            "375/375 [==============================] - 1s 3ms/step - loss: 0.4356 - accuracy: 0.8649 - val_loss: 7.1100 - val_accuracy: 0.0972\n",
            "Epoch 90/100\n",
            "375/375 [==============================] - 1s 3ms/step - loss: 0.4276 - accuracy: 0.8668 - val_loss: 7.2045 - val_accuracy: 0.0977\n",
            "Epoch 91/100\n",
            "375/375 [==============================] - 1s 3ms/step - loss: 0.4198 - accuracy: 0.8677 - val_loss: 7.2742 - val_accuracy: 0.1014\n",
            "Epoch 92/100\n",
            "375/375 [==============================] - 1s 3ms/step - loss: 0.4111 - accuracy: 0.8711 - val_loss: 7.3147 - val_accuracy: 0.0957\n",
            "Epoch 93/100\n",
            "375/375 [==============================] - 1s 3ms/step - loss: 0.4053 - accuracy: 0.8749 - val_loss: 7.4041 - val_accuracy: 0.1021\n",
            "Epoch 94/100\n",
            "375/375 [==============================] - 1s 3ms/step - loss: 0.3972 - accuracy: 0.8766 - val_loss: 7.4491 - val_accuracy: 0.0983\n",
            "Epoch 95/100\n",
            "375/375 [==============================] - 1s 3ms/step - loss: 0.3908 - accuracy: 0.8791 - val_loss: 7.5816 - val_accuracy: 0.1002\n",
            "Epoch 96/100\n",
            "375/375 [==============================] - 1s 4ms/step - loss: 0.3840 - accuracy: 0.8798 - val_loss: 7.6579 - val_accuracy: 0.0955\n",
            "Epoch 97/100\n",
            "375/375 [==============================] - 1s 4ms/step - loss: 0.3757 - accuracy: 0.8841 - val_loss: 7.7202 - val_accuracy: 0.0996\n",
            "Epoch 98/100\n",
            "375/375 [==============================] - 1s 3ms/step - loss: 0.3699 - accuracy: 0.8854 - val_loss: 7.7716 - val_accuracy: 0.0999\n",
            "Epoch 99/100\n",
            "375/375 [==============================] - 1s 3ms/step - loss: 0.3632 - accuracy: 0.8874 - val_loss: 7.7873 - val_accuracy: 0.1036\n",
            "Epoch 100/100\n",
            "375/375 [==============================] - 1s 3ms/step - loss: 0.3574 - accuracy: 0.8893 - val_loss: 7.9378 - val_accuracy: 0.1012\n"
          ]
        },
        {
          "output_type": "execute_result",
          "data": {
            "text/plain": [
              "<keras.src.callbacks.History at 0x7f3014f12b00>"
            ]
          },
          "metadata": {},
          "execution_count": 8
        }
      ],
      "source": [
        "(train_images, train_labels), _ = mnist.load_data()\n",
        "train_images = train_images.reshape((60000, 28 * 28))\n",
        "train_images = train_images.astype(\"float32\") / 255\n",
        "\n",
        "random_train_labels = train_labels[:]\n",
        "np.random.shuffle(random_train_labels)\n",
        "\n",
        "model = keras.Sequential([\n",
        "    layers.Dense(512, activation=\"relu\"),\n",
        "    layers.Dense(10, activation=\"softmax\")\n",
        "])\n",
        "model.compile(optimizer=\"rmsprop\",\n",
        "              loss=\"sparse_categorical_crossentropy\",\n",
        "              metrics=[\"accuracy\"])\n",
        "model.fit(train_images, random_train_labels,\n",
        "          epochs=100,\n",
        "          batch_size=128,\n",
        "          validation_split=0.2)"
      ]
    },
    {
      "cell_type": "code",
      "source": [
        "import matplotlib.pyplot as plt\n",
        "val_acc_noise = history_noise.history[\"val_accuracy\"]\n",
        "val_acc_zeros = history_zeros.history[\"val_accuracy\"]\n",
        "epochs = range(1, 11)\n",
        "plt.plot(epochs, val_acc_noise, \"b-\",\n",
        "         label=\"Validation accuracy with noise channels\")\n",
        "plt.plot(epochs, val_acc_zeros, \"b--\",\n",
        "         label=\"Validation accuracy with zeros channels\")\n",
        "plt.title(\"Effect of noise channels on validation accuracy\")\n",
        "plt.xlabel(\"Epochs\")\n",
        "plt.ylabel(\"Accuracy\")\n",
        "plt.legend()"
      ],
      "metadata": {
        "colab": {
          "base_uri": "https://localhost:8080/",
          "height": 490
        },
        "id": "rlH3QLATzrco",
        "outputId": "ee68fb17-0eee-4611-9abc-bf58cd23a207"
      },
      "execution_count": 11,
      "outputs": [
        {
          "output_type": "execute_result",
          "data": {
            "text/plain": [
              "<matplotlib.legend.Legend at 0x7f3014679d20>"
            ]
          },
          "metadata": {},
          "execution_count": 11
        },
        {
          "output_type": "display_data",
          "data": {
            "text/plain": [
              "<Figure size 640x480 with 1 Axes>"
            ],
            "image/png": "[encoded data removed]"
          },
          "metadata": {}
        }
      ]
    },
    {
      "cell_type": "markdown",
      "metadata": {
        "id": "ICtbhRBuPmMK"
      },
      "source": [
        "#### The manifold hypothesis"
      ]
    },
    {
      "cell_type": "markdown",
      "metadata": {
        "id": "83sYgvtCPmMK"
      },
      "source": [
        "#### Interpolation as a source of generalization"
      ]
    },
    {
      "cell_type": "markdown",
      "metadata": {
        "id": "PbfjQWYrPmMK"
      },
      "source": [
        "#### Why deep learning works"
      ]
    },
    {
      "cell_type": "markdown",
      "metadata": {
        "id": "jZWi8YXtPmMK"
      },
      "source": [
        "#### Training data is paramount"
      ]
    },
    {
      "cell_type": "markdown",
      "metadata": {
        "id": "dXaF637tPmMK"
      },
      "source": [
        "## Evaluating machine-learning models"
      ]
    },
    {
      "cell_type": "markdown",
      "metadata": {
        "id": "qDjWH7_WPmML"
      },
      "source": [
        "### Training, validation, and test sets"
      ]
    },
    {
      "cell_type": "markdown",
      "metadata": {
        "id": "kfKpxv_TPmML"
      },
      "source": [
        "#### Simple hold-out validation"
      ]
    },
    {
      "cell_type": "markdown",
      "metadata": {
        "id": "a3R9swIwPmML"
      },
      "source": [
        "#### K-fold validation"
      ]
    },
    {
      "cell_type": "markdown",
      "metadata": {
        "id": "tTKgh1QoPmML"
      },
      "source": [
        "#### Iterated K-fold validation with shuffling"
      ]
    },
    {
      "cell_type": "markdown",
      "metadata": {
        "id": "zfEpa_uPPmML"
      },
      "source": [
        "### Beating a common-sense baseline"
      ]
    },
    {
      "cell_type": "markdown",
      "metadata": {
        "id": "UzaTghmrPmML"
      },
      "source": [
        "### Things to keep in mind about model evaluation"
      ]
    },
    {
      "cell_type": "markdown",
      "metadata": {
        "id": "MTvPyce3PmML"
      },
      "source": [
        "## Improving model fit"
      ]
    },
    {
      "cell_type": "markdown",
      "metadata": {
        "id": "yy8WwrfePmML"
      },
      "source": [
        "### Tuning key gradient descent parameters"
      ]
    },
    {
      "cell_type": "markdown",
      "metadata": {
        "id": "c68NFzlsPmMM"
      },
      "source": [
        "**Training a MNIST model with an incorrectly high learning rate**"
      ]
    },
    {
      "cell_type": "code",
      "execution_count": 9,
      "metadata": {
        "colab": {
          "base_uri": "https://localhost:8080/"
        },
        "id": "ksX7vp8zPmMM",
        "outputId": "a719589e-e2b1-41c3-d92e-3459bf07a5a9"
      },
      "outputs": [
        {
          "output_type": "stream",
          "name": "stdout",
          "text": [
            "Epoch 1/10\n",
            "375/375 [==============================] - 2s 4ms/step - loss: 758.8403 - accuracy: 0.4252 - val_loss: 2.2136 - val_accuracy: 0.2533\n",
            "Epoch 2/10\n",
            "375/375 [==============================] - 1s 3ms/step - loss: 3.8251 - accuracy: 0.2646 - val_loss: 2.3347 - val_accuracy: 0.2364\n",
            "Epoch 3/10\n",
            "375/375 [==============================] - 1s 3ms/step - loss: 3.5649 - accuracy: 0.2558 - val_loss: 2.2009 - val_accuracy: 0.2450\n",
            "Epoch 4/10\n",
            "375/375 [==============================] - 1s 3ms/step - loss: 2.9480 - accuracy: 0.2325 - val_loss: 2.3449 - val_accuracy: 0.2378\n",
            "Epoch 5/10\n",
            "375/375 [==============================] - 1s 3ms/step - loss: 2.4017 - accuracy: 0.2270 - val_loss: 2.2103 - val_accuracy: 0.2116\n",
            "Epoch 6/10\n",
            "375/375 [==============================] - 1s 3ms/step - loss: 2.3848 - accuracy: 0.2296 - val_loss: 2.1989 - val_accuracy: 0.2176\n",
            "Epoch 7/10\n",
            "375/375 [==============================] - 1s 4ms/step - loss: 2.4553 - accuracy: 0.2473 - val_loss: 2.2444 - val_accuracy: 0.3038\n",
            "Epoch 8/10\n",
            "375/375 [==============================] - 2s 4ms/step - loss: 2.4246 - accuracy: 0.2475 - val_loss: 2.1282 - val_accuracy: 0.2472\n",
            "Epoch 9/10\n",
            "375/375 [==============================] - 1s 3ms/step - loss: 2.6630 - accuracy: 0.2481 - val_loss: 2.1200 - val_accuracy: 0.2587\n",
            "Epoch 10/10\n",
            "375/375 [==============================] - 1s 3ms/step - loss: 2.4178 - accuracy: 0.2500 - val_loss: 2.0507 - val_accuracy: 0.2584\n"
          ]
        },
        {
          "output_type": "execute_result",
          "data": {
            "text/plain": [
              "<keras.src.callbacks.History at 0x7f30ea532a70>"
            ]
          },
          "metadata": {},
          "execution_count": 9
        }
      ],
      "source": [
        "(train_images, train_labels), _ = mnist.load_data()\n",
        "train_images = train_images.reshape((60000, 28 * 28))\n",
        "train_images = train_images.astype(\"float32\") / 255\n",
        "\n",
        "model = keras.Sequential([\n",
        "    layers.Dense(512, activation=\"relu\"),\n",
        "    layers.Dense(10, activation=\"softmax\")\n",
        "])\n",
        "model.compile(optimizer=keras.optimizers.RMSprop(1.),\n",
        "              loss=\"sparse_categorical_crossentropy\",\n",
        "              metrics=[\"accuracy\"])\n",
        "model.fit(train_images, train_labels,\n",
        "          epochs=10,\n",
        "          batch_size=128,\n",
        "          validation_split=0.2)"
      ]
    },
    {
      "cell_type": "markdown",
      "metadata": {
        "id": "_RV9XrCSPmMO"
      },
      "source": [
        "**The same model with a more appropriate learning rate**"
      ]
    },
    {
      "cell_type": "code",
      "execution_count": 10,
      "metadata": {
        "colab": {
          "base_uri": "https://localhost:8080/"
        },
        "id": "i76PN0JKPmMO",
        "outputId": "e90094aa-f717-4dc0-d371-6bd9b2984f4c"
      },
      "outputs": [
        {
          "output_type": "stream",
          "name": "stdout",
          "text": [
            "Epoch 1/10\n",
            "375/375 [==============================] - 2s 4ms/step - loss: 0.3660 - accuracy: 0.9138 - val_loss: 0.1408 - val_accuracy: 0.9607\n",
            "Epoch 2/10\n",
            "375/375 [==============================] - 1s 3ms/step - loss: 0.1289 - accuracy: 0.9640 - val_loss: 0.1414 - val_accuracy: 0.9642\n",
            "Epoch 3/10\n",
            "375/375 [==============================] - 1s 3ms/step - loss: 0.0959 - accuracy: 0.9750 - val_loss: 0.1451 - val_accuracy: 0.9666\n",
            "Epoch 4/10\n",
            "375/375 [==============================] - 1s 3ms/step - loss: 0.0845 - accuracy: 0.9792 - val_loss: 0.1446 - val_accuracy: 0.9722\n",
            "Epoch 5/10\n",
            "375/375 [==============================] - 1s 3ms/step - loss: 0.0687 - accuracy: 0.9824 - val_loss: 0.1369 - val_accuracy: 0.9749\n",
            "Epoch 6/10\n",
            "375/375 [==============================] - 1s 4ms/step - loss: 0.0588 - accuracy: 0.9852 - val_loss: 0.1572 - val_accuracy: 0.9759\n",
            "Epoch 7/10\n",
            "375/375 [==============================] - 1s 3ms/step - loss: 0.0535 - accuracy: 0.9866 - val_loss: 0.1704 - val_accuracy: 0.9743\n",
            "Epoch 8/10\n",
            "375/375 [==============================] - 1s 3ms/step - loss: 0.0480 - accuracy: 0.9884 - val_loss: 0.1975 - val_accuracy: 0.9731\n",
            "Epoch 9/10\n",
            "375/375 [==============================] - 1s 3ms/step - loss: 0.0453 - accuracy: 0.9897 - val_loss: 0.1970 - val_accuracy: 0.9734\n",
            "Epoch 10/10\n",
            "375/375 [==============================] - 1s 3ms/step - loss: 0.0353 - accuracy: 0.9911 - val_loss: 0.2012 - val_accuracy: 0.9758\n"
          ]
        },
        {
          "output_type": "execute_result",
          "data": {
            "text/plain": [
              "<keras.src.callbacks.History at 0x7f302cf97fd0>"
            ]
          },
          "metadata": {},
          "execution_count": 10
        }
      ],
      "source": [
        "model = keras.Sequential([\n",
        "    layers.Dense(512, activation=\"relu\"),\n",
        "    layers.Dense(10, activation=\"softmax\")\n",
        "])\n",
        "model.compile(optimizer=keras.optimizers.RMSprop(1e-2),\n",
        "              loss=\"sparse_categorical_crossentropy\",\n",
        "              metrics=[\"accuracy\"])\n",
        "model.fit(train_images, train_labels,\n",
        "          epochs=10,\n",
        "          batch_size=128,\n",
        "          validation_split=0.2)"
      ]
    },
    {
      "cell_type": "markdown",
      "metadata": {
        "id": "cQuuzYg7PmMQ"
      },
      "source": [
        "### Leveraging better architecture priors"
      ]
    },
    {
      "cell_type": "markdown",
      "metadata": {
        "id": "yNCovobEPmMR"
      },
      "source": [
        "### Increasing model capacity"
      ]
    },
    {
      "cell_type": "markdown",
      "metadata": {
        "id": "KCTzeqWYPmMR"
      },
      "source": [
        "**A simple logistic regression on MNIST**"
      ]
    },
    {
      "cell_type": "code",
      "execution_count": 15,
      "metadata": {
        "colab": {
          "base_uri": "https://localhost:8080/"
        },
        "id": "ZKAm73HyPmMR",
        "outputId": "baf5edad-23f7-43ac-81bb-5889b7a7ff52"
      },
      "outputs": [
        {
          "output_type": "stream",
          "name": "stdout",
          "text": [
            "Epoch 1/20\n",
            "375/375 [==============================] - 2s 4ms/step - loss: 0.6624 - accuracy: 0.8337 - val_loss: 0.3608 - val_accuracy: 0.9021\n",
            "Epoch 2/20\n",
            "375/375 [==============================] - 1s 3ms/step - loss: 0.3531 - accuracy: 0.9025 - val_loss: 0.3085 - val_accuracy: 0.9158\n",
            "Epoch 3/20\n",
            "375/375 [==============================] - 1s 3ms/step - loss: 0.3180 - accuracy: 0.9115 - val_loss: 0.2921 - val_accuracy: 0.9202\n",
            "Epoch 4/20\n",
            "375/375 [==============================] - 1s 4ms/step - loss: 0.3023 - accuracy: 0.9159 - val_loss: 0.2837 - val_accuracy: 0.9193\n",
            "Epoch 5/20\n",
            "375/375 [==============================] - 1s 3ms/step - loss: 0.2924 - accuracy: 0.9185 - val_loss: 0.2814 - val_accuracy: 0.9216\n",
            "Epoch 6/20\n",
            "375/375 [==============================] - 1s 3ms/step - loss: 0.2860 - accuracy: 0.9203 - val_loss: 0.2741 - val_accuracy: 0.9248\n",
            "Epoch 7/20\n",
            "375/375 [==============================] - 1s 3ms/step - loss: 0.2808 - accuracy: 0.9218 - val_loss: 0.2703 - val_accuracy: 0.9267\n",
            "Epoch 8/20\n",
            "375/375 [==============================] - 1s 3ms/step - loss: 0.2771 - accuracy: 0.9230 - val_loss: 0.2706 - val_accuracy: 0.9264\n",
            "Epoch 9/20\n",
            "375/375 [==============================] - 1s 3ms/step - loss: 0.2739 - accuracy: 0.9243 - val_loss: 0.2676 - val_accuracy: 0.9278\n",
            "Epoch 10/20\n",
            "375/375 [==============================] - 1s 3ms/step - loss: 0.2707 - accuracy: 0.9248 - val_loss: 0.2672 - val_accuracy: 0.9275\n",
            "Epoch 11/20\n",
            "375/375 [==============================] - 1s 3ms/step - loss: 0.2689 - accuracy: 0.9255 - val_loss: 0.2655 - val_accuracy: 0.9273\n",
            "Epoch 12/20\n",
            "375/375 [==============================] - 1s 3ms/step - loss: 0.2666 - accuracy: 0.9262 - val_loss: 0.2642 - val_accuracy: 0.9280\n",
            "Epoch 13/20\n",
            "375/375 [==============================] - 1s 3ms/step - loss: 0.2648 - accuracy: 0.9268 - val_loss: 0.2661 - val_accuracy: 0.9278\n",
            "Epoch 14/20\n",
            "375/375 [==============================] - 1s 3ms/step - loss: 0.2629 - accuracy: 0.9275 - val_loss: 0.2629 - val_accuracy: 0.9279\n",
            "Epoch 15/20\n",
            "375/375 [==============================] - 1s 4ms/step - loss: 0.2616 - accuracy: 0.9282 - val_loss: 0.2650 - val_accuracy: 0.9279\n",
            "Epoch 16/20\n",
            "375/375 [==============================] - 1s 3ms/step - loss: 0.2606 - accuracy: 0.9286 - val_loss: 0.2645 - val_accuracy: 0.9280\n",
            "Epoch 17/20\n",
            "375/375 [==============================] - 1s 3ms/step - loss: 0.2594 - accuracy: 0.9293 - val_loss: 0.2617 - val_accuracy: 0.9311\n",
            "Epoch 18/20\n",
            "375/375 [==============================] - 1s 3ms/step - loss: 0.2582 - accuracy: 0.9294 - val_loss: 0.2618 - val_accuracy: 0.9300\n",
            "Epoch 19/20\n",
            "375/375 [==============================] - 1s 3ms/step - loss: 0.2573 - accuracy: 0.9292 - val_loss: 0.2624 - val_accuracy: 0.9308\n",
            "Epoch 20/20\n",
            "375/375 [==============================] - 1s 3ms/step - loss: 0.2565 - accuracy: 0.9305 - val_loss: 0.2620 - val_accuracy: 0.9302\n"
          ]
        }
      ],
      "source": [
        "model = keras.Sequential([layers.Dense(10, activation=\"softmax\")])\n",
        "model.compile(optimizer=\"rmsprop\",\n",
        "              loss=\"sparse_categorical_crossentropy\",\n",
        "              metrics=[\"accuracy\"])\n",
        "history_small_model = model.fit(\n",
        "    train_images, train_labels,\n",
        "    epochs=20,\n",
        "    batch_size=128,\n",
        "    validation_split=0.2)"
      ]
    },
    {
      "cell_type": "code",
      "execution_count": 16,
      "metadata": {
        "colab": {
          "base_uri": "https://localhost:8080/",
          "height": 490
        },
        "id": "lbqd2SEIPmMR",
        "outputId": "598e41e0-ad79-4404-885a-95e36ee422ce"
      },
      "outputs": [
        {
          "output_type": "execute_result",
          "data": {
            "text/plain": [
              "<matplotlib.legend.Legend at 0x7f30ec915d80>"
            ]
          },
          "metadata": {},
          "execution_count": 16
        },
        {
          "output_type": "display_data",
          "data": {
            "text/plain": [
              "<Figure size 640x480 with 1 Axes>"
            ],
            "image/png": "[encoded data removed]"
          },
          "metadata": {}
        }
      ],
      "source": [
        "import matplotlib.pyplot as plt\n",
        "val_loss = history_small_model.history[\"val_loss\"]\n",
        "epochs = range(1, 21)\n",
        "plt.plot(epochs, val_loss, \"b--\",\n",
        "         label=\"Validation loss\")\n",
        "plt.title(\"Effect of insufficient model capacity on validation loss\")\n",
        "plt.xlabel(\"Epochs\")\n",
        "plt.ylabel(\"Loss\")\n",
        "plt.legend()"
      ]
    },
    {
      "cell_type": "code",
      "execution_count": 17,
      "metadata": {
        "colab": {
          "base_uri": "https://localhost:8080/"
        },
        "id": "h40Km0-RPmMS",
        "outputId": "28fc5769-d214-4e20-cb83-416fd0c0b9a3"
      },
      "outputs": [
        {
          "output_type": "stream",
          "name": "stdout",
          "text": [
            "Epoch 1/20\n",
            "375/375 [==============================] - 2s 4ms/step - loss: 0.3523 - accuracy: 0.9017 - val_loss: 0.1763 - val_accuracy: 0.9491\n",
            "Epoch 2/20\n",
            "375/375 [==============================] - 1s 3ms/step - loss: 0.1573 - accuracy: 0.9533 - val_loss: 0.1634 - val_accuracy: 0.9499\n",
            "Epoch 3/20\n",
            "375/375 [==============================] - 1s 3ms/step - loss: 0.1096 - accuracy: 0.9669 - val_loss: 0.1085 - val_accuracy: 0.9682\n",
            "Epoch 4/20\n",
            "375/375 [==============================] - 1s 3ms/step - loss: 0.0836 - accuracy: 0.9749 - val_loss: 0.1004 - val_accuracy: 0.9698\n",
            "Epoch 5/20\n",
            "375/375 [==============================] - 1s 3ms/step - loss: 0.0671 - accuracy: 0.9794 - val_loss: 0.0893 - val_accuracy: 0.9724\n",
            "Epoch 6/20\n",
            "375/375 [==============================] - 1s 3ms/step - loss: 0.0552 - accuracy: 0.9838 - val_loss: 0.0985 - val_accuracy: 0.9707\n",
            "Epoch 7/20\n",
            "375/375 [==============================] - 1s 3ms/step - loss: 0.0449 - accuracy: 0.9861 - val_loss: 0.0852 - val_accuracy: 0.9734\n",
            "Epoch 8/20\n",
            "375/375 [==============================] - 2s 4ms/step - loss: 0.0379 - accuracy: 0.9887 - val_loss: 0.0892 - val_accuracy: 0.9746\n",
            "Epoch 9/20\n",
            "375/375 [==============================] - 1s 3ms/step - loss: 0.0303 - accuracy: 0.9908 - val_loss: 0.0954 - val_accuracy: 0.9735\n",
            "Epoch 10/20\n",
            "375/375 [==============================] - 1s 3ms/step - loss: 0.0263 - accuracy: 0.9916 - val_loss: 0.0983 - val_accuracy: 0.9742\n",
            "Epoch 11/20\n",
            "375/375 [==============================] - 1s 3ms/step - loss: 0.0225 - accuracy: 0.9930 - val_loss: 0.1000 - val_accuracy: 0.9743\n",
            "Epoch 12/20\n",
            "375/375 [==============================] - 1s 3ms/step - loss: 0.0181 - accuracy: 0.9943 - val_loss: 0.0981 - val_accuracy: 0.9768\n",
            "Epoch 13/20\n",
            "375/375 [==============================] - 1s 3ms/step - loss: 0.0165 - accuracy: 0.9950 - val_loss: 0.0959 - val_accuracy: 0.9765\n",
            "Epoch 14/20\n",
            "375/375 [==============================] - 1s 3ms/step - loss: 0.0134 - accuracy: 0.9960 - val_loss: 0.1036 - val_accuracy: 0.9756\n",
            "Epoch 15/20\n",
            "375/375 [==============================] - 1s 3ms/step - loss: 0.0118 - accuracy: 0.9963 - val_loss: 0.1104 - val_accuracy: 0.9744\n",
            "Epoch 16/20\n",
            "375/375 [==============================] - 1s 3ms/step - loss: 0.0092 - accuracy: 0.9973 - val_loss: 0.1074 - val_accuracy: 0.9773\n",
            "Epoch 17/20\n",
            "375/375 [==============================] - 2s 4ms/step - loss: 0.0077 - accuracy: 0.9978 - val_loss: 0.1145 - val_accuracy: 0.9762\n",
            "Epoch 18/20\n",
            "375/375 [==============================] - 1s 4ms/step - loss: 0.0074 - accuracy: 0.9977 - val_loss: 0.1128 - val_accuracy: 0.9778\n",
            "Epoch 19/20\n",
            "375/375 [==============================] - 1s 3ms/step - loss: 0.0068 - accuracy: 0.9981 - val_loss: 0.1272 - val_accuracy: 0.9756\n",
            "Epoch 20/20\n",
            "375/375 [==============================] - 1s 3ms/step - loss: 0.0056 - accuracy: 0.9982 - val_loss: 0.1162 - val_accuracy: 0.9775\n"
          ]
        }
      ],
      "source": [
        "model = keras.Sequential([\n",
        "    layers.Dense(96, activation=\"relu\"),\n",
        "    layers.Dense(96, activation=\"relu\"),\n",
        "    layers.Dense(10, activation=\"softmax\"),\n",
        "])\n",
        "model.compile(optimizer=\"rmsprop\",\n",
        "              loss=\"sparse_categorical_crossentropy\",\n",
        "              metrics=[\"accuracy\"])\n",
        "history_large_model = model.fit(\n",
        "    train_images, train_labels,\n",
        "    epochs=20,\n",
        "    batch_size=128,\n",
        "    validation_split=0.2)"
      ]
    },
    {
      "cell_type": "markdown",
      "metadata": {
        "id": "oaFHPdZwPmMW"
      },
      "source": [
        "## Improving generalization"
      ]
    },
    {
      "cell_type": "markdown",
      "metadata": {
        "id": "oZRLamYVPmMm"
      },
      "source": [
        "### Dataset curation"
      ]
    },
    {
      "cell_type": "markdown",
      "metadata": {
        "id": "omhbvuNQPmMm"
      },
      "source": [
        "### Feature engineering"
      ]
    },
    {
      "cell_type": "markdown",
      "metadata": {
        "id": "gmjoQaOuPmMm"
      },
      "source": [
        "### Using early stopping"
      ]
    },
    {
      "cell_type": "markdown",
      "metadata": {
        "id": "yRVvmZHNPmMm"
      },
      "source": [
        "### Regularizing your model"
      ]
    },
    {
      "cell_type": "markdown",
      "metadata": {
        "id": "YGBuKXRmPmMm"
      },
      "source": [
        "#### Reducing the network's size"
      ]
    },
    {
      "cell_type": "markdown",
      "metadata": {
        "id": "a3XM2kT4PmMm"
      },
      "source": [
        "**Original model**"
      ]
    },
    {
      "cell_type": "code",
      "execution_count": 18,
      "metadata": {
        "colab": {
          "base_uri": "https://localhost:8080/"
        },
        "id": "2eyZrh4YPmMm",
        "outputId": "0bbb2dd9-f206-4722-cfdd-04f4244b46f6"
      },
      "outputs": [
        {
          "output_type": "stream",
          "name": "stdout",
          "text": [
            "Downloading data from https://storage.googleapis.com/tensorflow/tf-keras-datasets/imdb.npz\n",
            "17464789/17464789 [==============================] - 0s 0us/step\n",
            "Epoch 1/20\n",
            "30/30 [==============================] - 4s 83ms/step - loss: 0.5362 - accuracy: 0.7598 - val_loss: 0.4149 - val_accuracy: 0.8605\n",
            "Epoch 2/20\n",
            "30/30 [==============================] - 1s 22ms/step - loss: 0.3310 - accuracy: 0.8937 - val_loss: 0.3557 - val_accuracy: 0.8538\n",
            "Epoch 3/20\n",
            "30/30 [==============================] - 1s 22ms/step - loss: 0.2454 - accuracy: 0.9225 - val_loss: 0.2860 - val_accuracy: 0.8913\n",
            "Epoch 4/20\n",
            "30/30 [==============================] - 1s 21ms/step - loss: 0.1930 - accuracy: 0.9390 - val_loss: 0.2791 - val_accuracy: 0.8917\n",
            "Epoch 5/20\n",
            "30/30 [==============================] - 1s 24ms/step - loss: 0.1616 - accuracy: 0.9473 - val_loss: 0.3022 - val_accuracy: 0.8823\n",
            "Epoch 6/20\n",
            "30/30 [==============================] - 1s 21ms/step - loss: 0.1347 - accuracy: 0.9587 - val_loss: 0.3174 - val_accuracy: 0.8775\n",
            "Epoch 7/20\n",
            "30/30 [==============================] - 1s 24ms/step - loss: 0.1133 - accuracy: 0.9669 - val_loss: 0.3074 - val_accuracy: 0.8845\n",
            "Epoch 8/20\n",
            "30/30 [==============================] - 1s 22ms/step - loss: 0.0955 - accuracy: 0.9726 - val_loss: 0.3265 - val_accuracy: 0.8829\n",
            "Epoch 9/20\n",
            "30/30 [==============================] - 1s 22ms/step - loss: 0.0832 - accuracy: 0.9769 - val_loss: 0.3390 - val_accuracy: 0.8794\n",
            "Epoch 10/20\n",
            "30/30 [==============================] - 1s 24ms/step - loss: 0.0682 - accuracy: 0.9821 - val_loss: 0.3585 - val_accuracy: 0.8799\n",
            "Epoch 11/20\n",
            "30/30 [==============================] - 1s 22ms/step - loss: 0.0552 - accuracy: 0.9886 - val_loss: 0.3861 - val_accuracy: 0.8796\n",
            "Epoch 12/20\n",
            "30/30 [==============================] - 1s 24ms/step - loss: 0.0500 - accuracy: 0.9894 - val_loss: 0.4076 - val_accuracy: 0.8785\n",
            "Epoch 13/20\n",
            "30/30 [==============================] - 1s 22ms/step - loss: 0.0390 - accuracy: 0.9921 - val_loss: 0.4940 - val_accuracy: 0.8679\n",
            "Epoch 14/20\n",
            "30/30 [==============================] - 1s 21ms/step - loss: 0.0356 - accuracy: 0.9924 - val_loss: 0.4442 - val_accuracy: 0.8751\n",
            "Epoch 15/20\n",
            "30/30 [==============================] - 1s 24ms/step - loss: 0.0296 - accuracy: 0.9941 - val_loss: 0.4685 - val_accuracy: 0.8758\n",
            "Epoch 16/20\n",
            "30/30 [==============================] - 1s 37ms/step - loss: 0.0231 - accuracy: 0.9959 - val_loss: 0.4969 - val_accuracy: 0.8743\n",
            "Epoch 17/20\n",
            "30/30 [==============================] - 1s 40ms/step - loss: 0.0183 - accuracy: 0.9976 - val_loss: 0.5203 - val_accuracy: 0.8744\n",
            "Epoch 18/20\n",
            "30/30 [==============================] - 1s 21ms/step - loss: 0.0169 - accuracy: 0.9972 - val_loss: 0.5434 - val_accuracy: 0.8721\n",
            "Epoch 19/20\n",
            "30/30 [==============================] - 1s 24ms/step - loss: 0.0155 - accuracy: 0.9967 - val_loss: 0.5661 - val_accuracy: 0.8716\n",
            "Epoch 20/20\n",
            "30/30 [==============================] - 1s 23ms/step - loss: 0.0082 - accuracy: 0.9994 - val_loss: 0.5879 - val_accuracy: 0.8714\n"
          ]
        }
      ],
      "source": [
        "from tensorflow.keras.datasets import imdb\n",
        "(train_data, train_labels), _ = imdb.load_data(num_words=10000)\n",
        "\n",
        "def vectorize_sequences(sequences, dimension=10000):\n",
        "    results = np.zeros((len(sequences), dimension))\n",
        "    for i, sequence in enumerate(sequences):\n",
        "        results[i, sequence] = 1.\n",
        "    return results\n",
        "train_data = vectorize_sequences(train_data)\n",
        "\n",
        "model = keras.Sequential([\n",
        "    layers.Dense(16, activation=\"relu\"),\n",
        "    layers.Dense(16, activation=\"relu\"),\n",
        "    layers.Dense(1, activation=\"sigmoid\")\n",
        "])\n",
        "model.compile(optimizer=\"rmsprop\",\n",
        "              loss=\"binary_crossentropy\",\n",
        "              metrics=[\"accuracy\"])\n",
        "history_original = model.fit(train_data, train_labels,\n",
        "                             epochs=20, batch_size=512, validation_split=0.4)"
      ]
    },
    {
      "cell_type": "markdown",
      "metadata": {
        "id": "y3MYO6MjPmMn"
      },
      "source": [
        "**Version of the model with lower capacity**"
      ]
    },
    {
      "cell_type": "code",
      "execution_count": 19,
      "metadata": {
        "colab": {
          "base_uri": "https://localhost:8080/"
        },
        "id": "MzkOxFE1PmMn",
        "outputId": "83a177a5-843c-4d51-af79-72612f5f8dfc"
      },
      "outputs": [
        {
          "output_type": "stream",
          "name": "stdout",
          "text": [
            "Epoch 1/20\n",
            "30/30 [==============================] - 3s 65ms/step - loss: 0.6073 - accuracy: 0.7013 - val_loss: 0.5518 - val_accuracy: 0.7383\n",
            "Epoch 2/20\n",
            "30/30 [==============================] - 1s 30ms/step - loss: 0.5181 - accuracy: 0.8153 - val_loss: 0.5085 - val_accuracy: 0.8244\n",
            "Epoch 3/20\n",
            "30/30 [==============================] - 1s 29ms/step - loss: 0.4745 - accuracy: 0.8645 - val_loss: 0.4971 - val_accuracy: 0.7974\n",
            "Epoch 4/20\n",
            "30/30 [==============================] - 1s 24ms/step - loss: 0.4451 - accuracy: 0.8891 - val_loss: 0.4880 - val_accuracy: 0.8101\n",
            "Epoch 5/20\n",
            "30/30 [==============================] - 1s 21ms/step - loss: 0.4217 - accuracy: 0.9069 - val_loss: 0.4587 - val_accuracy: 0.8702\n",
            "Epoch 6/20\n",
            "30/30 [==============================] - 1s 24ms/step - loss: 0.4018 - accuracy: 0.9249 - val_loss: 0.4525 - val_accuracy: 0.8674\n",
            "Epoch 7/20\n",
            "30/30 [==============================] - 1s 23ms/step - loss: 0.3845 - accuracy: 0.9353 - val_loss: 0.4417 - val_accuracy: 0.8843\n",
            "Epoch 8/20\n",
            "30/30 [==============================] - 1s 22ms/step - loss: 0.3685 - accuracy: 0.9452 - val_loss: 0.4387 - val_accuracy: 0.8797\n",
            "Epoch 9/20\n",
            "30/30 [==============================] - 1s 22ms/step - loss: 0.3554 - accuracy: 0.9533 - val_loss: 0.4345 - val_accuracy: 0.8808\n",
            "Epoch 10/20\n",
            "30/30 [==============================] - 1s 22ms/step - loss: 0.3427 - accuracy: 0.9577 - val_loss: 0.4392 - val_accuracy: 0.8746\n",
            "Epoch 11/20\n",
            "30/30 [==============================] - 1s 21ms/step - loss: 0.3297 - accuracy: 0.9640 - val_loss: 0.4452 - val_accuracy: 0.8705\n",
            "Epoch 12/20\n",
            "30/30 [==============================] - 1s 24ms/step - loss: 0.3190 - accuracy: 0.9669 - val_loss: 0.4398 - val_accuracy: 0.8755\n",
            "Epoch 13/20\n",
            "30/30 [==============================] - 1s 24ms/step - loss: 0.3082 - accuracy: 0.9716 - val_loss: 0.4766 - val_accuracy: 0.8536\n",
            "Epoch 14/20\n",
            "30/30 [==============================] - 1s 22ms/step - loss: 0.2990 - accuracy: 0.9732 - val_loss: 0.4713 - val_accuracy: 0.8591\n",
            "Epoch 15/20\n",
            "30/30 [==============================] - 1s 22ms/step - loss: 0.2896 - accuracy: 0.9761 - val_loss: 0.4539 - val_accuracy: 0.8681\n",
            "Epoch 16/20\n",
            "30/30 [==============================] - 1s 24ms/step - loss: 0.2800 - accuracy: 0.9779 - val_loss: 0.4788 - val_accuracy: 0.8600\n",
            "Epoch 17/20\n",
            "30/30 [==============================] - 1s 24ms/step - loss: 0.2721 - accuracy: 0.9804 - val_loss: 0.4862 - val_accuracy: 0.8599\n",
            "Epoch 18/20\n",
            "30/30 [==============================] - 1s 22ms/step - loss: 0.2638 - accuracy: 0.9818 - val_loss: 0.4642 - val_accuracy: 0.8684\n",
            "Epoch 19/20\n",
            "30/30 [==============================] - 1s 38ms/step - loss: 0.2553 - accuracy: 0.9837 - val_loss: 0.4851 - val_accuracy: 0.8647\n",
            "Epoch 20/20\n",
            "30/30 [==============================] - 1s 29ms/step - loss: 0.2487 - accuracy: 0.9841 - val_loss: 0.4670 - val_accuracy: 0.8706\n"
          ]
        }
      ],
      "source": [
        "model = keras.Sequential([\n",
        "    layers.Dense(4, activation=\"relu\"),\n",
        "    layers.Dense(4, activation=\"relu\"),\n",
        "    layers.Dense(1, activation=\"sigmoid\")\n",
        "])\n",
        "model.compile(optimizer=\"rmsprop\",\n",
        "              loss=\"binary_crossentropy\",\n",
        "              metrics=[\"accuracy\"])\n",
        "history_smaller_model = model.fit(\n",
        "    train_data, train_labels,\n",
        "    epochs=20, batch_size=512, validation_split=0.4)"
      ]
    },
    {
      "cell_type": "markdown",
      "metadata": {
        "id": "0assby6-PmMn"
      },
      "source": [
        "**Version of the model with higher capacity**"
      ]
    },
    {
      "cell_type": "code",
      "execution_count": 20,
      "metadata": {
        "colab": {
          "base_uri": "https://localhost:8080/"
        },
        "id": "S_g9-66ePmMn",
        "outputId": "2c7ce45c-f576-455d-feb3-aba8f13ca1ce"
      },
      "outputs": [
        {
          "output_type": "stream",
          "name": "stdout",
          "text": [
            "Epoch 1/20\n",
            "30/30 [==============================] - 3s 67ms/step - loss: 0.5676 - accuracy: 0.7585 - val_loss: 0.4217 - val_accuracy: 0.8037\n",
            "Epoch 2/20\n",
            "30/30 [==============================] - 1s 27ms/step - loss: 0.3359 - accuracy: 0.8598 - val_loss: 0.3291 - val_accuracy: 0.8612\n",
            "Epoch 3/20\n",
            "30/30 [==============================] - 1s 26ms/step - loss: 0.2372 - accuracy: 0.9065 - val_loss: 0.3308 - val_accuracy: 0.8620\n",
            "Epoch 4/20\n",
            "30/30 [==============================] - 1s 26ms/step - loss: 0.1908 - accuracy: 0.9247 - val_loss: 0.2757 - val_accuracy: 0.8881\n",
            "Epoch 5/20\n",
            "30/30 [==============================] - 1s 31ms/step - loss: 0.1451 - accuracy: 0.9479 - val_loss: 0.2957 - val_accuracy: 0.8873\n",
            "Epoch 6/20\n",
            "30/30 [==============================] - 1s 32ms/step - loss: 0.1086 - accuracy: 0.9625 - val_loss: 0.5995 - val_accuracy: 0.7969\n",
            "Epoch 7/20\n",
            "30/30 [==============================] - 1s 30ms/step - loss: 0.0896 - accuracy: 0.9691 - val_loss: 0.3372 - val_accuracy: 0.8866\n",
            "Epoch 8/20\n",
            "30/30 [==============================] - 1s 28ms/step - loss: 0.0694 - accuracy: 0.9786 - val_loss: 0.3700 - val_accuracy: 0.8875\n",
            "Epoch 9/20\n",
            "30/30 [==============================] - 1s 26ms/step - loss: 0.0785 - accuracy: 0.9788 - val_loss: 0.3427 - val_accuracy: 0.8845\n",
            "Epoch 10/20\n",
            "30/30 [==============================] - 1s 25ms/step - loss: 0.0115 - accuracy: 0.9987 - val_loss: 0.4479 - val_accuracy: 0.8850\n",
            "Epoch 11/20\n",
            "30/30 [==============================] - 1s 26ms/step - loss: 0.0841 - accuracy: 0.9802 - val_loss: 0.3764 - val_accuracy: 0.8854\n",
            "Epoch 12/20\n",
            "30/30 [==============================] - 1s 27ms/step - loss: 0.0056 - accuracy: 0.9999 - val_loss: 0.4832 - val_accuracy: 0.8862\n",
            "Epoch 13/20\n",
            "30/30 [==============================] - 1s 27ms/step - loss: 0.0025 - accuracy: 0.9999 - val_loss: 0.5615 - val_accuracy: 0.8810\n",
            "Epoch 14/20\n",
            "30/30 [==============================] - 1s 27ms/step - loss: 0.0944 - accuracy: 0.9817 - val_loss: 0.4453 - val_accuracy: 0.8834\n",
            "Epoch 15/20\n",
            "30/30 [==============================] - 1s 25ms/step - loss: 0.0024 - accuracy: 1.0000 - val_loss: 0.5295 - val_accuracy: 0.8833\n",
            "Epoch 16/20\n",
            "30/30 [==============================] - 1s 25ms/step - loss: 0.0011 - accuracy: 1.0000 - val_loss: 0.6042 - val_accuracy: 0.8835\n",
            "Epoch 17/20\n",
            "30/30 [==============================] - 1s 25ms/step - loss: 6.5656e-04 - accuracy: 1.0000 - val_loss: 0.6616 - val_accuracy: 0.8828\n",
            "Epoch 18/20\n",
            "30/30 [==============================] - 1s 26ms/step - loss: 4.2293e-04 - accuracy: 1.0000 - val_loss: 0.6854 - val_accuracy: 0.8835\n",
            "Epoch 19/20\n",
            "30/30 [==============================] - 1s 25ms/step - loss: 2.9316e-04 - accuracy: 1.0000 - val_loss: 0.7072 - val_accuracy: 0.8836\n",
            "Epoch 20/20\n",
            "30/30 [==============================] - 1s 39ms/step - loss: 2.2312e-04 - accuracy: 1.0000 - val_loss: 0.7275 - val_accuracy: 0.8835\n"
          ]
        }
      ],
      "source": [
        "model = keras.Sequential([\n",
        "    layers.Dense(512, activation=\"relu\"),\n",
        "    layers.Dense(512, activation=\"relu\"),\n",
        "    layers.Dense(1, activation=\"sigmoid\")\n",
        "])\n",
        "model.compile(optimizer=\"rmsprop\",\n",
        "              loss=\"binary_crossentropy\",\n",
        "              metrics=[\"accuracy\"])\n",
        "history_larger_model = model.fit(\n",
        "    train_data, train_labels,\n",
        "    epochs=20, batch_size=512, validation_split=0.4)"
      ]
    },
    {
      "cell_type": "code",
      "source": [
        "import matplotlib.pyplot as plt\n",
        "small_loss = history_smaller_model.history[\"val_loss\"]\n",
        "larger_loss = history_larger_model.history[\"val_loss\"]\n",
        "origin_loss = history_original.history[\"val_loss\"]\n",
        "\n",
        "\n",
        "epochs = range(1, 21)\n",
        "plt.plot(epochs, small_loss, \"b-\",\n",
        "         label=\"loss of small capacity model\")\n",
        "plt.plot(epochs, larger_loss, \"b--\",\n",
        "         label=\"loss of large capacity model\")\n",
        "plt.plot(epochs, origin_loss, \"r\",\n",
        "         label=\"loss of origin model\")\n",
        "plt.title(\"Loss of smaller model vs larger model vs original model\")\n",
        "plt.xlabel(\"Epochs\")\n",
        "plt.ylabel(\"Validation Loss\")\n",
        "plt.legend()\n"
      ],
      "metadata": {
        "colab": {
          "base_uri": "https://localhost:8080/",
          "height": 490
        },
        "id": "eX35P_ij2R9i",
        "outputId": "8febda69-1b4f-4de0-a762-7da499afed35"
      },
      "execution_count": 22,
      "outputs": [
        {
          "output_type": "execute_result",
          "data": {
            "text/plain": [
              "<matplotlib.legend.Legend at 0x7f2ff1a19960>"
            ]
          },
          "metadata": {},
          "execution_count": 22
        },
        {
          "output_type": "display_data",
          "data": {
            "text/plain": [
              "<Figure size 640x480 with 1 Axes>"
            ],
            "image/png": "[encoded data removed]"
          },
          "metadata": {}
        }
      ]
    },
    {
      "cell_type": "markdown",
      "metadata": {
        "id": "huXZXXcJPmMn"
      },
      "source": [
        "#### Adding weight regularization"
      ]
    },
    {
      "cell_type": "markdown",
      "metadata": {
        "id": "0p1BUgnKPmMn"
      },
      "source": [
        "**Adding L2 weight regularization to the model**"
      ]
    },
    {
      "cell_type": "code",
      "execution_count": 23,
      "metadata": {
        "colab": {
          "base_uri": "https://localhost:8080/"
        },
        "id": "qF71wzKpPmMn",
        "outputId": "31c97182-1e4a-4f78-c849-b8189a5e24cd"
      },
      "outputs": [
        {
          "output_type": "stream",
          "name": "stdout",
          "text": [
            "Epoch 1/20\n",
            "30/30 [==============================] - 3s 75ms/step - loss: 0.6249 - accuracy: 0.7684 - val_loss: 0.4731 - val_accuracy: 0.8742\n",
            "Epoch 2/20\n",
            "30/30 [==============================] - 1s 29ms/step - loss: 0.4094 - accuracy: 0.8893 - val_loss: 0.3952 - val_accuracy: 0.8854\n",
            "Epoch 3/20\n",
            "30/30 [==============================] - 1s 24ms/step - loss: 0.3367 - accuracy: 0.9137 - val_loss: 0.3693 - val_accuracy: 0.8884\n",
            "Epoch 4/20\n",
            "30/30 [==============================] - 1s 22ms/step - loss: 0.2982 - accuracy: 0.9257 - val_loss: 0.3763 - val_accuracy: 0.8826\n",
            "Epoch 5/20\n",
            "30/30 [==============================] - 1s 24ms/step - loss: 0.2721 - accuracy: 0.9371 - val_loss: 0.3907 - val_accuracy: 0.8754\n",
            "Epoch 6/20\n",
            "30/30 [==============================] - 1s 22ms/step - loss: 0.2561 - accuracy: 0.9411 - val_loss: 0.3740 - val_accuracy: 0.8821\n",
            "Epoch 7/20\n",
            "30/30 [==============================] - 1s 21ms/step - loss: 0.2490 - accuracy: 0.9423 - val_loss: 0.3822 - val_accuracy: 0.8795\n",
            "Epoch 8/20\n",
            "30/30 [==============================] - 1s 21ms/step - loss: 0.2337 - accuracy: 0.9505 - val_loss: 0.3784 - val_accuracy: 0.8815\n",
            "Epoch 9/20\n",
            "30/30 [==============================] - 1s 21ms/step - loss: 0.2306 - accuracy: 0.9515 - val_loss: 0.4530 - val_accuracy: 0.8522\n",
            "Epoch 10/20\n",
            "30/30 [==============================] - 1s 21ms/step - loss: 0.2247 - accuracy: 0.9541 - val_loss: 0.3951 - val_accuracy: 0.8787\n",
            "Epoch 11/20\n",
            "30/30 [==============================] - 1s 23ms/step - loss: 0.2157 - accuracy: 0.9572 - val_loss: 0.3912 - val_accuracy: 0.8798\n",
            "Epoch 12/20\n",
            "30/30 [==============================] - 1s 22ms/step - loss: 0.2196 - accuracy: 0.9535 - val_loss: 0.4110 - val_accuracy: 0.8733\n",
            "Epoch 13/20\n",
            "30/30 [==============================] - 1s 24ms/step - loss: 0.2065 - accuracy: 0.9617 - val_loss: 0.3997 - val_accuracy: 0.8785\n",
            "Epoch 14/20\n",
            "30/30 [==============================] - 1s 21ms/step - loss: 0.2089 - accuracy: 0.9581 - val_loss: 0.4241 - val_accuracy: 0.8743\n",
            "Epoch 15/20\n",
            "30/30 [==============================] - 1s 21ms/step - loss: 0.2002 - accuracy: 0.9647 - val_loss: 0.4352 - val_accuracy: 0.8674\n",
            "Epoch 16/20\n",
            "30/30 [==============================] - 1s 22ms/step - loss: 0.2048 - accuracy: 0.9606 - val_loss: 0.4265 - val_accuracy: 0.8704\n",
            "Epoch 17/20\n",
            "30/30 [==============================] - 1s 24ms/step - loss: 0.1989 - accuracy: 0.9640 - val_loss: 0.4211 - val_accuracy: 0.8739\n",
            "Epoch 18/20\n",
            "30/30 [==============================] - 1s 28ms/step - loss: 0.2042 - accuracy: 0.9621 - val_loss: 0.4227 - val_accuracy: 0.8759\n",
            "Epoch 19/20\n",
            "30/30 [==============================] - 1s 28ms/step - loss: 0.1904 - accuracy: 0.9675 - val_loss: 0.4198 - val_accuracy: 0.8770\n",
            "Epoch 20/20\n",
            "30/30 [==============================] - 1s 24ms/step - loss: 0.1939 - accuracy: 0.9660 - val_loss: 0.4641 - val_accuracy: 0.8610\n"
          ]
        }
      ],
      "source": [
        "from tensorflow.keras import regularizers\n",
        "model = keras.Sequential([\n",
        "    layers.Dense(16,\n",
        "                 kernel_regularizer=regularizers.l2(0.002),\n",
        "                 activation=\"relu\"),\n",
        "    layers.Dense(16,\n",
        "                 kernel_regularizer=regularizers.l2(0.002),\n",
        "                 activation=\"relu\"),\n",
        "    layers.Dense(1, activation=\"sigmoid\")\n",
        "])\n",
        "model.compile(optimizer=\"rmsprop\",\n",
        "              loss=\"binary_crossentropy\",\n",
        "              metrics=[\"accuracy\"])\n",
        "history_l2_reg = model.fit(\n",
        "    train_data, train_labels,\n",
        "    epochs=20, batch_size=512, validation_split=0.4)"
      ]
    },
    {
      "cell_type": "markdown",
      "metadata": {
        "id": "UuMbi20-PmMo"
      },
      "source": [
        "**Different weight regularizers available in Keras**"
      ]
    },
    {
      "cell_type": "code",
      "execution_count": 24,
      "metadata": {
        "colab": {
          "base_uri": "https://localhost:8080/"
        },
        "id": "IO5_N3t0PmMo",
        "outputId": "d01e1ecc-c840-4f00-8e17-ac5d73a971f2"
      },
      "outputs": [
        {
          "output_type": "execute_result",
          "data": {
            "text/plain": [
              "<keras.src.regularizers.L1L2 at 0x7f2ff19ba4a0>"
            ]
          },
          "metadata": {},
          "execution_count": 24
        }
      ],
      "source": [
        "from tensorflow.keras import regularizers\n",
        "regularizers.l1(0.001)\n",
        "regularizers.l1_l2(l1=0.001, l2=0.001)"
      ]
    },
    {
      "cell_type": "markdown",
      "metadata": {
        "id": "WanVmNfgPmMo"
      },
      "source": [
        "#### Adding dropout"
      ]
    },
    {
      "cell_type": "markdown",
      "metadata": {
        "id": "sL24o9lFPmMo"
      },
      "source": [
        "**Adding dropout to the IMDB model**"
      ]
    },
    {
      "cell_type": "code",
      "execution_count": 25,
      "metadata": {
        "colab": {
          "base_uri": "https://localhost:8080/"
        },
        "id": "DhSEuw0MPmMo",
        "outputId": "98f29efb-6031-460e-df4c-32e953802a3e"
      },
      "outputs": [
        {
          "output_type": "stream",
          "name": "stdout",
          "text": [
            "Epoch 1/20\n",
            "30/30 [==============================] - 4s 67ms/step - loss: 0.6327 - accuracy: 0.6341 - val_loss: 0.5148 - val_accuracy: 0.8467\n",
            "Epoch 2/20\n",
            "30/30 [==============================] - 1s 41ms/step - loss: 0.5130 - accuracy: 0.7603 - val_loss: 0.4073 - val_accuracy: 0.8726\n",
            "Epoch 3/20\n",
            "30/30 [==============================] - 1s 29ms/step - loss: 0.4294 - accuracy: 0.8199 - val_loss: 0.3484 - val_accuracy: 0.8783\n",
            "Epoch 4/20\n",
            "30/30 [==============================] - 1s 24ms/step - loss: 0.3703 - accuracy: 0.8559 - val_loss: 0.3001 - val_accuracy: 0.8877\n",
            "Epoch 5/20\n",
            "30/30 [==============================] - 1s 24ms/step - loss: 0.3215 - accuracy: 0.8787 - val_loss: 0.2941 - val_accuracy: 0.8832\n",
            "Epoch 6/20\n",
            "30/30 [==============================] - 1s 21ms/step - loss: 0.2875 - accuracy: 0.8965 - val_loss: 0.2740 - val_accuracy: 0.8904\n",
            "Epoch 7/20\n",
            "30/30 [==============================] - 1s 21ms/step - loss: 0.2536 - accuracy: 0.9119 - val_loss: 0.2767 - val_accuracy: 0.8911\n",
            "Epoch 8/20\n",
            "30/30 [==============================] - 1s 22ms/step - loss: 0.2284 - accuracy: 0.9198 - val_loss: 0.2769 - val_accuracy: 0.8912\n",
            "Epoch 9/20\n",
            "30/30 [==============================] - 1s 22ms/step - loss: 0.2057 - accuracy: 0.9297 - val_loss: 0.2919 - val_accuracy: 0.8887\n",
            "Epoch 10/20\n",
            "30/30 [==============================] - 1s 24ms/step - loss: 0.1843 - accuracy: 0.9363 - val_loss: 0.3062 - val_accuracy: 0.8887\n",
            "Epoch 11/20\n",
            "30/30 [==============================] - 1s 24ms/step - loss: 0.1651 - accuracy: 0.9437 - val_loss: 0.3354 - val_accuracy: 0.8882\n",
            "Epoch 12/20\n",
            "30/30 [==============================] - 1s 22ms/step - loss: 0.1524 - accuracy: 0.9493 - val_loss: 0.3418 - val_accuracy: 0.8878\n",
            "Epoch 13/20\n",
            "30/30 [==============================] - 1s 24ms/step - loss: 0.1446 - accuracy: 0.9509 - val_loss: 0.3607 - val_accuracy: 0.8875\n",
            "Epoch 14/20\n",
            "30/30 [==============================] - 1s 22ms/step - loss: 0.1267 - accuracy: 0.9579 - val_loss: 0.3826 - val_accuracy: 0.8862\n",
            "Epoch 15/20\n",
            "30/30 [==============================] - 1s 24ms/step - loss: 0.1225 - accuracy: 0.9564 - val_loss: 0.4096 - val_accuracy: 0.8865\n",
            "Epoch 16/20\n",
            "30/30 [==============================] - 1s 24ms/step - loss: 0.1115 - accuracy: 0.9611 - val_loss: 0.4139 - val_accuracy: 0.8839\n",
            "Epoch 17/20\n",
            "30/30 [==============================] - 1s 22ms/step - loss: 0.1001 - accuracy: 0.9633 - val_loss: 0.4415 - val_accuracy: 0.8840\n",
            "Epoch 18/20\n",
            "30/30 [==============================] - 1s 30ms/step - loss: 0.1015 - accuracy: 0.9663 - val_loss: 0.4723 - val_accuracy: 0.8847\n",
            "Epoch 19/20\n",
            "30/30 [==============================] - 1s 28ms/step - loss: 0.0934 - accuracy: 0.9666 - val_loss: 0.5196 - val_accuracy: 0.8764\n",
            "Epoch 20/20\n",
            "30/30 [==============================] - 1s 26ms/step - loss: 0.0927 - accuracy: 0.9674 - val_loss: 0.5207 - val_accuracy: 0.8841\n"
          ]
        }
      ],
      "source": [
        "model = keras.Sequential([\n",
        "    layers.Dense(16, activation=\"relu\"),\n",
        "    layers.Dropout(0.5),\n",
        "    layers.Dense(16, activation=\"relu\"),\n",
        "    layers.Dropout(0.5),\n",
        "    layers.Dense(1, activation=\"sigmoid\")\n",
        "])\n",
        "model.compile(optimizer=\"rmsprop\",\n",
        "              loss=\"binary_crossentropy\",\n",
        "              metrics=[\"accuracy\"])\n",
        "history_dropout = model.fit(\n",
        "    train_data, train_labels,\n",
        "    epochs=20, batch_size=512, validation_split=0.4)"
      ]
    },
    {
      "cell_type": "code",
      "source": [
        "import matplotlib.pyplot as plt\n",
        "origin_loss = history_original.history[\"val_loss\"]\n",
        "dropout_loss = history_dropout.history[\"val_loss\"]\n",
        "\n",
        "epochs = range(1, 21)\n",
        "plt.plot(epochs, small_loss, \"b-\",\n",
        "         label=\"loss of original model\")\n",
        "plt.plot(epochs, origin_loss, \"b--\",\n",
        "        label=\"loss of dropout model\")\n",
        "plt.title(\"Difference in loss of original and dropout\")\n",
        "plt.xlabel(\"Epochs\")\n",
        "plt.ylabel(\"Validation Loss\")\n",
        "plt.legend()"
      ],
      "metadata": {
        "colab": {
          "base_uri": "https://localhost:8080/",
          "height": 490
        },
        "id": "qsFDPV-P5caW",
        "outputId": "fbff8468-a1e9-454c-c696-2fdcdb8eed67"
      },
      "execution_count": 31,
      "outputs": [
        {
          "output_type": "execute_result",
          "data": {
            "text/plain": [
              "<matplotlib.legend.Legend at 0x7f2ff1197fa0>"
            ]
          },
          "metadata": {},
          "execution_count": 31
        },
        {
          "output_type": "display_data",
          "data": {
            "text/plain": [
              "<Figure size 640x480 with 1 Axes>"
            ],
            "image/png": "[encoded data removed]"
          },
          "metadata": {}
        }
      ]
    },
    {
      "cell_type": "markdown",
      "metadata": {
        "id": "VH-zQmBZPmMo"
      },
      "source": [
        "## Summary"
      ]
    }
  ],
  "metadata": {
    "colab": {
      "name": "chapter05_fundamentals-of-ml.i",
      "provenance": [],
      "toc_visible": true,
      "gpuType": "T4"
    },
    "kernelspec": {
      "display_name": "Python 3",
      "name": "python3"
    },
    "language_info": {
      "codemirror_mode": {
        "name": "ipython",
        "version": 3
      },
      "file_extension": ".py",
      "mimetype": "text/x-python",
      "name": "python",
      "nbconvert_exporter": "python",
      "pygments_lexer": "ipython3",
      "version": "3.7.0"
    },
    "accelerator": "GPU"
  },
  "nbformat": 4,
  "nbformat_minor": 0
}