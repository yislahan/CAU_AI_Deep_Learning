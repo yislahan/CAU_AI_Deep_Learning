{
  "nbformat": 4,
  "nbformat_minor": 0,
  "metadata": {
    "colab": {
      "provenance": [],
      "include_colab_link": true
    },
    "kernelspec": {
      "name": "python3",
      "display_name": "Python 3"
    },
    "language_info": {
      "name": "python"
    }
  },
  "cells": [
    {
      "cell_type": "markdown",
      "metadata": {
        "id": "view-in-github",
        "colab_type": "text"
      },
      "source": [
        "<a href=\"https://colab.research.google.com/github/yislahan/CAU_AI_Deep_Learning/blob/main/practice.ipynb\" target=\"_parent\"><img src=\"https://colab.research.google.com/assets/colab-badge.svg\" alt=\"Open In Colab\"/></a>"
      ]
    },
    {
      "cell_type": "markdown",
      "source": [
        "hello world\n",
        "\n",
        "- list1\n",
        "- list 2\n",
        "\n",
        "### subtitle"
      ],
      "metadata": {
        "id": "qofi8zaR6r5U"
      }
    },
    {
      "cell_type": "code",
      "execution_count": null,
      "metadata": {
        "colab": {
          "base_uri": "https://localhost:8080/"
        },
        "id": "-sYylqjm6mdE",
        "outputId": "e8ec4e67-75ae-4ef9-c50e-8a4e4ddb7e87"
      },
      "outputs": [
        {
          "output_type": "execute_result",
          "data": {
            "text/plain": [
              "3"
            ]
          },
          "metadata": {},
          "execution_count": 1
        }
      ],
      "source": [
        "1+2"
      ]
    },
    {
      "cell_type": "code",
      "source": [],
      "metadata": {
        "id": "2O7BGVFp6ycD"
      },
      "execution_count": null,
      "outputs": []
    }
  ]
}